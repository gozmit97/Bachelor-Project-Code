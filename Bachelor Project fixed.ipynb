{
 "cells": [
  {
   "cell_type": "code",
   "execution_count": 1,
   "id": "durable-hygiene",
   "metadata": {},
   "outputs": [],
   "source": [
    "from qiskit import *\n",
    "import numpy as np\n",
    "from qiskit.tools.visualization import plot_histogram\n",
    "from qiskit.tools.visualization import plot_bloch_multivector"
   ]
  },
  {
   "cell_type": "markdown",
   "id": "difficult-regulation",
   "metadata": {},
   "source": [
    "This function implements a quantum fourier transform on a circuit."
   ]
  },
  {
   "cell_type": "code",
   "execution_count": 22,
   "id": "searching-opportunity",
   "metadata": {},
   "outputs": [],
   "source": [
    "def QFT_inv(circ, n):\n",
    "    #This checks if all registers have been gone over\n",
    "    if n!= 0:\n",
    "        #Move to the next register and apply relevant gates\n",
    "        n -= 1\n",
    "        circ.h(n)\n",
    "        for q in np.arange(n):\n",
    "            circ.cp(np.pi/2**(n-q), q, n)\n",
    "    \n",
    "        #Repeat function   \n",
    "        QFT_inv(circ, n)\n",
    "\n",
    "    return circ\n",
    "\n",
    "def QFT(circ, n):\n",
    "    #First we apply the QFT tranformation, before swapping the registers\n",
    "    circ = QFT_inv(circ, n)\n",
    "    \n",
    "    #We swap the registers on opposite \"sides\" of the circuit.\n",
    "    circ.barrier()\n",
    "    for i in np.arange(n//2):\n",
    "        circ.swap(i, n-1-i)\n",
    "            \n",
    "    #Ends the function returning the circuit with the QFT applied\n",
    "    return circ"
   ]
  },
  {
   "cell_type": "markdown",
   "id": "raised-rapid",
   "metadata": {},
   "source": [
    "We run a test of the code, to ensure it works as intended."
   ]
  },
  {
   "cell_type": "code",
   "execution_count": 23,
   "id": "approved-somewhere",
   "metadata": {},
   "outputs": [
    {
     "data": {
      "image/png": "[encoded data removed]",
      "text/plain": [
       "<Figure size 1015.7x325.08 with 1 Axes>"
      ]
     },
     "execution_count": 23,
     "metadata": {},
     "output_type": "execute_result"
    }
   ],
   "source": [
    "cr = ClassicalRegister(4)\n",
    "qr = QuantumRegister(4)\n",
    "test_QFT = QuantumCircuit(qr, cr)\n",
    "\n",
    "test_QFT.x((0, 3))\n",
    "test_QFT.barrier\n",
    "\n",
    "QFT(test_QFT, 4)\n",
    "test_QFT.barrier()\n",
    "\n",
    "test_QFT.draw(output = 'mpl')"
   ]
  },
  {
   "cell_type": "code",
   "execution_count": null,
   "id": "recognized-mileage",
   "metadata": {},
   "outputs": [],
   "source": [
    "sv_sim = Aer.get_backend(\"statevector_simulator\")\n",
    "qobj = assemble(test_QFT)\n",
    "statevector = sv_sim.run(qobj).result().get_statevector()\n",
    "plot_bloch_multivector(statevector)"
   ]
  },
  {
   "cell_type": "markdown",
   "id": "finnish-leonard",
   "metadata": {},
   "source": [
    "And here is similarly implemented a function for inverse quantum fourier transform on a circuit."
   ]
  },
  {
   "cell_type": "code",
   "execution_count": null,
   "id": "binding-table",
   "metadata": {},
   "outputs": [],
   "source": [
    "#As it will be used in the Phase Estimation, I define the QFT_dagger function.\n",
    "def QFT_dagger(circ, n):\n",
    "    #First we swap the registers, since the rest of the QFT_dagger returns\n",
    "    #an \"inverse\" state\n",
    "    for i in np.arange(n//2):\n",
    "        #\n",
    "        circ.swap(i, n-1-i)\n",
    "    \n",
    "    #We then apply the relevant Hadamard and phase gates.\n",
    "    for i in np.arange(n):\n",
    "        for j in np.arange(i):\n",
    "            circ.cp(-np.pi/2**(i-j), j, i)\n",
    "        circ.h(i)\n",
    "\n",
    "    return circ"
   ]
  },
  {
   "cell_type": "code",
   "execution_count": null,
   "id": "creative-sitting",
   "metadata": {},
   "outputs": [],
   "source": [
    "sv_sim = Aer.get_backend(\"statevector_simulator\")\n",
    "qobj = assemble(test_QFT)\n",
    "statevector = sv_sim.run(qobj).result().get_statevector()\n",
    "plot_bloch_multivector(statevector)"
   ]
  },
  {
   "cell_type": "markdown",
   "id": "seasonal-tennis",
   "metadata": {},
   "source": [
    "Before defining the phase estimation, I define the trotter decomposition used in the phase estimation, to allow me to calculate the phase of my unitary U. I define 3 functions that together are supposed to decompose a 2^N by 2^N Hermitian matrix into a sum of pauli vectors and thereafter apply it to the circuit via trotter decomposition\n",
    "\n",
    "The first function, pauli_traces is the one that calculates how much of each pauli product is supposed to be used in the implementation of the Hamiltonian.\n",
    "\n",
    "The second function is the one that applies one of the pauli products to the circuit, with an appropriate phase from pauli_traces.\n",
    "\n",
    "The third function is the one "
   ]
  },
  {
   "cell_type": "code",
   "execution_count": null,
   "id": "shaped-turner",
   "metadata": {},
   "outputs": [],
   "source": [
    "#This is the function that calculates the traces of a given hamiltonian\n",
    "def pauli_traces(H):\n",
    "    n = np.log2(H.shape[0]) \n",
    "    \n",
    "    #First I define the array that will contain my multiplication\n",
    "    IXYZ = np.zeros((4, 2, 2), dtype = \"complex\")\n",
    "    \n",
    "    #This segment defines the different  pauli gates in my base trace array.\n",
    "    IXYZ[0] = np.array([[1, 0], [0, 1]])\n",
    "    IXYZ[1] = np.array([[0, 1], [1, 0]])\n",
    "    IXYZ[2] = np.array([[0, -1j], [1j, 0]])\n",
    "    IXYZ[3] = np.array([[1, 0], [0, -1]])\n",
    "\n",
    "    #Here I first define the \"n = 0 case\", so that for each I get the\n",
    "    #right kronecker product for each iteration.\n",
    "    tensors = np.array([[[1]]])\n",
    "    \n",
    "    #I calculate all the possible configurations of the tensor product.\n",
    "    for i in np.arange(n):\n",
    "        tensors = np.asarray([np.kron(i, j) for i in IXYZ for j in tensors])\n",
    "    \n",
    "    #The trace of tensors and H is then calculated, alongside the normalization factor.\n",
    "    traces = [np.trace(np.dot(i, H)) for i in tensors]/(2**n)\n",
    "    \n",
    "    return traces.real\n",
    "\n",
    "#This code applies 1 gate product as a time evolution for time segment t.\n",
    "def exp_product(circ, trace, comb, p, control, t):\n",
    "    #We check if the trace is 0, ie if the gate combination.\n",
    "    #attributes to the sum. If not, we return.\n",
    "    if abs(trace) == 0:\n",
    "        return\n",
    "    \n",
    "    #Defining the reg number here, so we can loop over it later.\n",
    "    reg = p\n",
    "    \n",
    "    #For each combination, we apply the appropriate gates,\n",
    "    #albeit none for the I gate.\n",
    "    for i in comb:\n",
    "        if i == 1:\n",
    "            circ.h(reg)\n",
    "            circ.cx(reg, -1)\n",
    "        elif i == 2:\n",
    "            circ.u(np.pi/2, np.pi, np.pi, reg)\n",
    "            circ.cx(reg, -1)\n",
    "        elif i == 3:\n",
    "            circ.cx(reg, -1)\n",
    "        reg += 1\n",
    "    \n",
    "    #We simply apply the rx gate here, ressetting the register count.\n",
    "    #The phase theta = -2t*trace is there to leave us with the appropriate\n",
    "    #phase based on the rx gates base setup.\n",
    "    circ.crz(-2*t*trace, control, -1)\n",
    "    reg = p\n",
    "    \n",
    "    #Same as before, but here we apply the rotation after the CNOT's.\n",
    "    for i in comb:\n",
    "        if i == 1:\n",
    "            circ.cx(reg, -1)\n",
    "            circ.h(reg)\n",
    "        elif i == 2:\n",
    "            circ.cx(reg, -1)\n",
    "            circ.u(np.pi/2, np.pi, np.pi, reg)\n",
    "        elif i == 3:\n",
    "            circ.cx(reg, -1)\n",
    "        reg += 1\n",
    "    \n",
    "    circ.barrier()\n",
    "\n",
    "#This function combines the trace and exp_product functions,\n",
    "#to fully decompose the matrix H into gates on a circuit.\n",
    "def decomposer(circ, H, p = 0, control = 0, r = 1, t = 1):\n",
    "    n = int(np.log2(H.shape[0]))\n",
    "    \n",
    "    #First I find all possible combinations of gates, combs.\n",
    "    combs = np.asarray(list(it.product(np.arange(4), repeat = n)))\n",
    "    \n",
    "    #I then calculate the traces, so that they are ready.\n",
    "    #Since the crz gate doesn't take a complex phase, we need\n",
    "    #to convert the complex values into real values, so that\n",
    "    #it aligns with the simulation method.\n",
    "    traces = pauli_traces(H)\n",
    "    \n",
    "    \n",
    "    #We loop over each combination, applying them only if trace=! 0.\n",
    "    #real is used here, since we can't use the complex type\n",
    "    #for the rx gate.\n",
    "    for rep in np.arange(r):\n",
    "        for i in np.arange(4**n):\n",
    "            exp_product(circ, traces[i], combs[i], p, control, t/r)\n",
    "    circ.barrier()"
   ]
  },
  {
   "cell_type": "code",
   "execution_count": null,
   "id": "continent-removal",
   "metadata": {},
   "outputs": [],
   "source": [
    "cr = ClassicalRegister(4)\n",
    "qr = QuantumRegister(4)\n",
    "test_QFT = QuantumCircuit(qr, cr)\n",
    "\n",
    "test_QFT.x((0, 3))\n",
    "test_QFT.barrier\n",
    "\n",
    "QFT(test_QFT, 4)\n",
    "QFT_dagger(test_QFT, 4)\n",
    "test_QFT.barrier()\n",
    "\n",
    "test_QFT.draw(output = 'mpl')"
   ]
  },
  {
   "cell_type": "markdown",
   "id": "permanent-withdrawal",
   "metadata": {},
   "source": [
    "Then we use the decomposer code to apply the controlled U as part of our QPE algorithm."
   ]
  },
  {
   "cell_type": "code",
   "execution_count": null,
   "id": "bigger-gross",
   "metadata": {},
   "outputs": [],
   "source": [
    "#This function runs phase estimation for our time evolution U,\n",
    "#which is given by the function decomposer\n",
    "def PhaseEst(circ, H, r, t, p):\n",
    "    #First we apply a hadamard transformation to the first n qubits, serving as our QFT.\n",
    "    circ.h(np.arange(p))\n",
    "    \n",
    "    #We now repeat CU on register_j, 2^j times.\n",
    "    for reg in np.arange(p):\n",
    "        for i in np.arange(2**reg):\n",
    "            decomposer(circ, H, p, reg, r, t)\n",
    "    \n",
    "    #Lastly, we return to the computational basis by using the QFT_dagger function\n",
    "    circ.barrier()\n",
    "    circ = QFT_dagger(circ, p)\n",
    "    \n",
    "    return circ"
   ]
  },
  {
   "cell_type": "markdown",
   "id": "saving-association",
   "metadata": {},
   "source": [
    "Here we run the code for a sample Hamiltonian h.\n",
    "\n",
    "First I define the sample 2-local Hamiltonian."
   ]
  },
  {
   "cell_type": "code",
   "execution_count": null,
   "id": "multiple-amplifier",
   "metadata": {},
   "outputs": [],
   "source": [
    "h = np.array([[1, 0], [0, np.exp(-1j*np.pi/4)]])\n",
    "h_temp = np.array([[1, 1], [1, -1]])"
   ]
  },
  {
   "cell_type": "markdown",
   "id": "together-accuracy",
   "metadata": {},
   "source": [
    "And  here we run the simulation"
   ]
  },
  {
   "cell_type": "code",
   "execution_count": null,
   "id": "generous-chosen",
   "metadata": {},
   "outputs": [],
   "source": [
    "p = 10\n",
    "n = 1\n",
    "epsilon = 0.1\n",
    "t = 1\n",
    "r = int(np.ceil(t**2/epsilon))\n",
    "print(r)\n",
    "\n",
    "cr = ClassicalRegister(p)\n",
    "qr = QuantumRegister(p)\n",
    "anc = QuantumRegister(n + 1)\n",
    "test_FE = QuantumCircuit(qr, anc, cr)\n",
    "\n",
    "#First we prepare the eigenstate we wish to investigate for.\n",
    "test_FE.x(anc[0])\n",
    "#test_FE.x(anc[1])\n",
    "\n",
    "#With the following setup of theta, phi and lam, we get a controlled T-gate.\n",
    "PhaseEst(test_FE, h, r, t, p)\n",
    "\n",
    "#We measure the first n registers\n",
    "test_FE.barrier()\n",
    "test_FE.measure(np.arange(p), np.arange(p))\n",
    "\n",
    "#Enable this to see the circuit\n",
    "#test_FE.draw(output = 'mpl')"
   ]
  },
  {
   "cell_type": "code",
   "execution_count": null,
   "id": "naughty-generic",
   "metadata": {},
   "outputs": [],
   "source": [
    "backend = BasicAer.get_backend('qasm_simulator')\n",
    "shots = 1024  # how many time execute the algorithm\n",
    "job = execute(test_FE, backend, shots=shots)\n",
    "result = job.result()\n",
    "counts = result.get_counts()\n",
    "plot_histogram(counts, bar_labels=False)"
   ]
  },
  {
   "cell_type": "markdown",
   "id": "natural-lying",
   "metadata": {},
   "source": [
    "Here I classically calculate the eigenvalues with numpy.linalg"
   ]
  },
  {
   "cell_type": "code",
   "execution_count": null,
   "id": "champion-starter",
   "metadata": {},
   "outputs": [],
   "source": [
    "evals, _ = np.linalg.eig(h)\n",
    "print(evals)"
   ]
  },
  {
   "cell_type": "markdown",
   "id": "banner-deadline",
   "metadata": {},
   "source": [
    "And we convert the most common bitstring into an estimated phase an compare it to the classically determined eigenvalues."
   ]
  },
  {
   "cell_type": "code",
   "execution_count": null,
   "id": "legal-liability",
   "metadata": {},
   "outputs": [],
   "source": [
    "phase_bits = max(counts, key=counts.get) # take the most often obtaned result\n",
    "\n",
    "print('The most common bit is')\n",
    "print(phase_bits)\n",
    "\n",
    "phase = 0\n",
    "for index, bit in enumerate((phase_bits)):\n",
    "    phase += int(bit) / 2**(index + 1)\n",
    "\n",
    "print(phase)\n",
    "estimated = np.exp(2 * np.pi * 1j * phase / t)\n",
    "\n",
    "# Print out the estimated eigenvalues\n",
    "print(\"\\nEigenvalue from QPE:\")\n",
    "print(estimated)\n",
    "\n",
    "# Print out the actual eigenvalues\n",
    "print(\"\\nActual eigenvalues:\")\n",
    "print(set(sorted(evals, key=lambda x: abs(x)**2)))"
   ]
  },
  {
   "cell_type": "code",
   "execution_count": null,
   "id": "generic-sheriff",
   "metadata": {},
   "outputs": [],
   "source": []
  }
 ],
 "metadata": {
  "kernelspec": {
   "display_name": "Python 3",
   "language": "python",
   "name": "python3"
  },
  "language_info": {
   "codemirror_mode": {
    "name": "ipython",
    "version": 3
   },
   "file_extension": ".py",
   "mimetype": "text/x-python",
   "name": "python",
   "nbconvert_exporter": "python",
   "pygments_lexer": "ipython3",
   "version": "3.9.1"
  }
 },
 "nbformat": 4,
 "nbformat_minor": 5
}
